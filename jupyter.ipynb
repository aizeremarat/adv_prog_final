{
 "cells": [
  {
   "cell_type": "code",
   "execution_count": 2,
   "id": "a17b8b7f-e020-46f5-9021-3b94e2c0d849",
   "metadata": {},
   "outputs": [
    {
     "name": "stdout",
     "output_type": "stream",
     "text": [
      "Requirement already satisfied: pytesseract in c:\\users\\данекер\\appdata\\local\\programs\\python\\python312\\lib\\site-packages (0.3.10)\n",
      "Requirement already satisfied: packaging>=21.3 in c:\\users\\данекер\\appdata\\local\\programs\\python\\python312\\lib\\site-packages (from pytesseract) (23.2)\n",
      "Requirement already satisfied: Pillow>=8.0.0 in c:\\users\\данекер\\appdata\\local\\programs\\python\\python312\\lib\\site-packages (from pytesseract) (10.2.0)\n",
      "Requirement already satisfied: easyocr in c:\\users\\данекер\\appdata\\local\\programs\\python\\python312\\lib\\site-packages (1.7.1)\n",
      "Requirement already satisfied: torch in c:\\users\\данекер\\appdata\\local\\programs\\python\\python312\\lib\\site-packages (from easyocr) (2.2.1)\n",
      "Requirement already satisfied: torchvision>=0.5 in c:\\users\\данекер\\appdata\\local\\programs\\python\\python312\\lib\\site-packages (from easyocr) (0.17.1)\n",
      "Requirement already satisfied: opencv-python-headless in c:\\users\\данекер\\appdata\\local\\programs\\python\\python312\\lib\\site-packages (from easyocr) (4.9.0.80)\n",
      "Requirement already satisfied: scipy in c:\\users\\данекер\\appdata\\local\\programs\\python\\python312\\lib\\site-packages (from easyocr) (1.12.0)\n",
      "Requirement already satisfied: numpy in c:\\users\\данекер\\appdata\\local\\programs\\python\\python312\\lib\\site-packages (from easyocr) (1.26.4)\n",
      "Requirement already satisfied: Pillow in c:\\users\\данекер\\appdata\\local\\programs\\python\\python312\\lib\\site-packages (from easyocr) (10.2.0)\n",
      "Requirement already satisfied: scikit-image in c:\\users\\данекер\\appdata\\local\\programs\\python\\python312\\lib\\site-packages (from easyocr) (0.22.0)\n",
      "Requirement already satisfied: python-bidi in c:\\users\\данекер\\appdata\\local\\programs\\python\\python312\\lib\\site-packages (from easyocr) (0.4.2)\n",
      "Requirement already satisfied: PyYAML in c:\\users\\данекер\\appdata\\local\\programs\\python\\python312\\lib\\site-packages (from easyocr) (6.0.1)\n",
      "Requirement already satisfied: Shapely in c:\\users\\данекер\\appdata\\local\\programs\\python\\python312\\lib\\site-packages (from easyocr) (2.0.3)\n",
      "Requirement already satisfied: pyclipper in c:\\users\\данекер\\appdata\\local\\programs\\python\\python312\\lib\\site-packages (from easyocr) (1.3.0.post5)\n",
      "Requirement already satisfied: ninja in c:\\users\\данекер\\appdata\\local\\programs\\python\\python312\\lib\\site-packages (from easyocr) (1.11.1.1)\n",
      "Requirement already satisfied: filelock in c:\\users\\данекер\\appdata\\local\\programs\\python\\python312\\lib\\site-packages (from torch->easyocr) (3.13.1)\n",
      "Requirement already satisfied: typing-extensions>=4.8.0 in c:\\users\\данекер\\appdata\\local\\programs\\python\\python312\\lib\\site-packages (from torch->easyocr) (4.10.0)\n",
      "Requirement already satisfied: sympy in c:\\users\\данекер\\appdata\\local\\programs\\python\\python312\\lib\\site-packages (from torch->easyocr) (1.12)\n",
      "Requirement already satisfied: networkx in c:\\users\\данекер\\appdata\\local\\programs\\python\\python312\\lib\\site-packages (from torch->easyocr) (3.2.1)\n",
      "Requirement already satisfied: jinja2 in c:\\users\\данекер\\appdata\\local\\programs\\python\\python312\\lib\\site-packages (from torch->easyocr) (3.1.3)\n",
      "Requirement already satisfied: fsspec in c:\\users\\данекер\\appdata\\local\\programs\\python\\python312\\lib\\site-packages (from torch->easyocr) (2024.2.0)\n",
      "Requirement already satisfied: six in c:\\users\\данекер\\appdata\\local\\programs\\python\\python312\\lib\\site-packages (from python-bidi->easyocr) (1.16.0)\n",
      "Requirement already satisfied: imageio>=2.27 in c:\\users\\данекер\\appdata\\local\\programs\\python\\python312\\lib\\site-packages (from scikit-image->easyocr) (2.34.0)\n",
      "Requirement already satisfied: tifffile>=2022.8.12 in c:\\users\\данекер\\appdata\\local\\programs\\python\\python312\\lib\\site-packages (from scikit-image->easyocr) (2024.2.12)\n",
      "Requirement already satisfied: packaging>=21 in c:\\users\\данекер\\appdata\\local\\programs\\python\\python312\\lib\\site-packages (from scikit-image->easyocr) (23.2)\n",
      "Requirement already satisfied: lazy_loader>=0.3 in c:\\users\\данекер\\appdata\\local\\programs\\python\\python312\\lib\\site-packages (from scikit-image->easyocr) (0.3)\n",
      "Requirement already satisfied: MarkupSafe>=2.0 in c:\\users\\данекер\\appdata\\local\\programs\\python\\python312\\lib\\site-packages (from jinja2->torch->easyocr) (2.1.5)\n",
      "Requirement already satisfied: mpmath>=0.19 in c:\\users\\данекер\\appdata\\local\\programs\\python\\python312\\lib\\site-packages (from sympy->torch->easyocr) (1.3.0)\n"
     ]
    }
   ],
   "source": [
    "!pip install pytesseract\n",
    "!pip install easyocr"
   ]
  },
  {
   "cell_type": "code",
   "execution_count": 5,
   "id": "25b3b136-512a-4bba-8493-68be0e491e6d",
   "metadata": {},
   "outputs": [
    {
     "name": "stderr",
     "output_type": "stream",
     "text": [
      "<>:6: SyntaxWarning: invalid escape sequence '\\T'\n",
      "<>:6: SyntaxWarning: invalid escape sequence '\\T'\n",
      "C:\\Users\\daneker\\ipykernel_16208\\2986747757.py:6: SyntaxWarning: invalid escape sequence '\\T'\n",
      "  pytesseract.pytesseract.tesseract_cmd = 'C:\\\\Program Files\\Tesseract-OCR\\\\tesseract.exe'\n"
     ]
    },
    {
     "name": "stdout",
     "output_type": "stream",
     "text": [
      "Detected text: 990H7404\n",
      "Detected text: meFYUHTA07EIHzA04\n",
      "Detected text: oeAeta__ifseea\n",
      "Detected text: ii8ss_re\n",
      "Detected text: 90HzA01\n",
      "Detected text: ireree\n",
      "Detected text: 990HZA01\n",
      "Detected text: _eeel_\n",
      "Detected text: m2990HZA101\n",
      "Detected text: SEEEE\n",
      "Detected text: aeesi\n",
      "Detected text: M29SOHZA\n",
      "All detected texts: ['oeAeta__ifseea', '_eeel_', '990HZA01', 'ii8ss_re', '90HzA01', 'aeesi', 'm2990HZA101', 'M29SOHZA', 'SEEEE', 'meFYUHTA07EIHzA04', '990H7404', 'ireree']\n"
     ]
    }
   ],
   "source": [
    "import cv2\n",
    "import pytesseract\n",
    "import re\n",
    "import os\n",
    "\n",
    "pytesseract.pytesseract.tesseract_cmd = 'C:\\\\Program Files\\Tesseract-OCR\\\\tesseract.exe'\n",
    "\n",
    "video_path = 'asdasd.mp4'\n",
    "\n",
    "cap = cv2.VideoCapture(video_path)\n",
    "total_frames = int(cap.get(cv2.CAP_PROP_FRAME_COUNT))\n",
    "frame_skip = max(total_frames // 10, 1)\n",
    "\n",
    "# Define the codec and create VideoWriter object\n",
    "fourcc = cv2.VideoWriter_fourcc(*'XVID')\n",
    "output_video = cv2.VideoWriter('output_video.avi', fourcc, 30, (1280, 720))\n",
    "\n",
    "text_saved = [] \n",
    "\n",
    "if not os.path.exists(\"carplates\"):\n",
    "    os.makedirs(\"carplates\")\n",
    "\n",
    "for frame_index in range(0, total_frames, frame_skip):\n",
    "    cap.set(cv2.CAP_PROP_POS_FRAMES, frame_index)\n",
    "    ret, frame = cap.read()\n",
    "    \n",
    "    if not ret:\n",
    "        break\n",
    "    \n",
    "    height, width = frame.shape[:2]\n",
    "    \n",
    "    \n",
    "    gray = cv2.cvtColor(frame, cv2.COLOR_BGR2GRAY)\n",
    "    blurred = cv2.GaussianBlur(gray, (3, 3), 0)\n",
    "    canny = cv2.Canny(blurred, 120, 255, 1)\n",
    "    \n",
    "    cnts = cv2.findContours(canny, cv2.RETR_EXTERNAL, cv2.CHAIN_APPROX_SIMPLE)\n",
    "    cnts = cnts[0] if len(cnts) == 2 else cnts[1]\n",
    "    \n",
    "    for i, c in enumerate(cnts):\n",
    "        x, y, w, h = cv2.boundingRect(c)\n",
    "        if w >= 3 * h and w <= 6 * h and w <= width / 3 and w >= width / 15:\n",
    "            config = \"--psm 11 --oem 3 -c textord_tabfind_find_tables=0 textord_tabfind_only_strokewidths_below_height_fraction=0\"\n",
    "            roi = gray[y:y+h, x:x+w]\n",
    "            text = pytesseract.image_to_string(roi, lang='eng', config=config)\n",
    "            \n",
    "            text = re.sub(r'\\s+', '', text)\n",
    "            text = re.sub(r'\\W', '', text)\n",
    "            \n",
    "            if len(text) > 4:\n",
    "                print(f\"Detected text: {text}\")\n",
    "                text_saved.append(text)  # Add detected text to the list\n",
    "                \n",
    "                cv2.rectangle(frame, (x, y), (x + w, y + h), (36, 255, 12), 2)\n",
    "                cropped_region = frame[y:y+h, x:x+w]\n",
    "                cv2.imwrite(f\"carplates/frame_{frame_index}_region_{i}.jpg\", cropped_region)\n",
    "    \n",
    "    output_video.write(frame)\n",
    "    \n",
    "text_saved = list(set(text_saved))\n",
    "\n",
    "cap.release()\n",
    "output_video.release()\n",
    "\n",
    "print(f\"All detected texts: {text_saved}\")"
   ]
  },
  {
   "cell_type": "code",
   "execution_count": 5,
   "id": "c4c8e4c0-81d6-4d12-895d-8ce4299775c1",
   "metadata": {},
   "outputs": [
    {
     "name": "stderr",
     "output_type": "stream",
     "text": [
      "Neither CUDA nor MPS are available - defaulting to CPU. Note: This module is much faster with a GPU.\n"
     ]
    },
    {
     "name": "stdout",
     "output_type": "stream",
     "text": [
      "No text detected in frame_28_region_1.jpg\n",
      "No text detected in frame_35_region_2.jpg\n",
      "Text in frame_432_region_55.jpg:\n",
      "9OHZA\n",
      "----\n",
      "No text detected in frame_56_region_1.jpg\n"
     ]
    }
   ],
   "source": [
    "\n",
    "directory = \"carplates\"\n",
    "\n",
    "reader = easyocr.Reader(['en'])\n",
    "\n",
    "for filename in os.listdir(directory):\n",
    "    if filename.endswith(\".jpg\") or filename.endswith(\".png\") or filename.endswith(\".jpeg\"):\n",
    "        file_path = os.path.join(directory, filename)\n",
    "        result = reader.readtext(file_path)\n",
    "        if result:\n",
    "            print(f\"Text in {filename}:\")\n",
    "            for detection in result:\n",
    "                print(detection[1]) \n",
    "            print(\"----\")\n",
    "        else:\n",
    "            print(f\"No text detected in {filename}\")"
   ]
  },
  {
   "cell_type": "code",
   "execution_count": null,
   "id": "b0977115-66e3-438f-80e7-09d72c0ae4ee",
   "metadata": {},
   "outputs": [],
   "source": []
  }
 ],
 "metadata": {
  "kernelspec": {
   "display_name": "Python 3 (ipykernel)",
   "language": "python",
   "name": "python3"
  },
  "language_info": {
   "codemirror_mode": {
    "name": "ipython",
    "version": 3
   },
   "file_extension": ".py",
   "mimetype": "text/x-python",
   "name": "python",
   "nbconvert_exporter": "python",
   "pygments_lexer": "ipython3",
   "version": "3.12.2"
  }
 },
 "nbformat": 4,
 "nbformat_minor": 5
}
